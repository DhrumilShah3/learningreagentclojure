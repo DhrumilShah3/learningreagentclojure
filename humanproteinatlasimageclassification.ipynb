{
  "nbformat": 4,
  "nbformat_minor": 0,
  "metadata": {
    "accelerator": "GPU",
    "colab": {
      "name": "humanproteinatlasimageclassification.ipynb",
      "provenance": [],
      "collapsed_sections": [
        "qX3PSTcbaaH6",
        "l2bB8_-bkiHB"
      ],
      "authorship_tag": "ABX9TyNxTdCqADToN8meEJAMjOhz",
      "include_colab_link": true
    },
    "kernelspec": {
      "display_name": "Python 3",
      "name": "python3"
    }
  },
  "cells": [
    {
      "cell_type": "markdown",
      "metadata": {
        "id": "view-in-github",
        "colab_type": "text"
      },
      "source": [
        "<a href=\"https://colab.research.google.com/github/DhrumilShah3/learningreagentclojure/blob/master/humanproteinatlasimageclassification.ipynb\" target=\"_parent\"><img src=\"https://colab.research.google.com/assets/colab-badge.svg\" alt=\"Open In Colab\"/></a>"
      ]
    },
    {
      "cell_type": "markdown",
      "metadata": {
        "id": "qX3PSTcbaaH6"
      },
      "source": [
        "# Import Libraries and Data"
      ]
    },
    {
      "cell_type": "code",
      "metadata": {
        "colab": {
          "base_uri": "https://localhost:8080/"
        },
        "id": "3oLYxvTxhq48",
        "outputId": "9b4fae8c-b63d-4a33-8a42-ea0a90032406"
      },
      "source": [
        "!pip install kaggle\r\n",
        "!pip install -Uqq fastbook\r\n",
        "import fastbook\r\n",
        "fastbook.setup_book()\r\n",
        "from fastbook import *\r\n",
        "from fastai.vision import *\r\n",
        "from fastai.metrics import error_rate\r\n",
        "import pandas as pd\r\n",
        "import numpy as np\r\n",
        "import os\r\n",
        "import cv2"
      ],
      "execution_count": null,
      "outputs": [
        {
          "output_type": "stream",
          "text": [
            "Requirement already satisfied: kaggle in /usr/local/lib/python3.6/dist-packages (1.5.10)\n",
            "Requirement already satisfied: certifi in /usr/local/lib/python3.6/dist-packages (from kaggle) (2020.12.5)\n",
            "Requirement already satisfied: python-dateutil in /usr/local/lib/python3.6/dist-packages (from kaggle) (2.8.1)\n",
            "Requirement already satisfied: requests in /usr/local/lib/python3.6/dist-packages (from kaggle) (2.23.0)\n",
            "Requirement already satisfied: tqdm in /usr/local/lib/python3.6/dist-packages (from kaggle) (4.41.1)\n",
            "Requirement already satisfied: python-slugify in /usr/local/lib/python3.6/dist-packages (from kaggle) (4.0.1)\n",
            "Requirement already satisfied: urllib3 in /usr/local/lib/python3.6/dist-packages (from kaggle) (1.24.3)\n",
            "Requirement already satisfied: six>=1.10 in /usr/local/lib/python3.6/dist-packages (from kaggle) (1.15.0)\n",
            "Requirement already satisfied: chardet<4,>=3.0.2 in /usr/local/lib/python3.6/dist-packages (from requests->kaggle) (3.0.4)\n",
            "Requirement already satisfied: idna<3,>=2.5 in /usr/local/lib/python3.6/dist-packages (from requests->kaggle) (2.10)\n",
            "Requirement already satisfied: text-unidecode>=1.3 in /usr/local/lib/python3.6/dist-packages (from python-slugify->kaggle) (1.3)\n",
            "\u001b[K     |████████████████████████████████| 727kB 17.9MB/s \n",
            "\u001b[K     |████████████████████████████████| 194kB 58.3MB/s \n",
            "\u001b[K     |████████████████████████████████| 51kB 9.0MB/s \n",
            "\u001b[K     |████████████████████████████████| 1.2MB 58.0MB/s \n",
            "\u001b[K     |████████████████████████████████| 61kB 9.1MB/s \n",
            "\u001b[?25hMounted at /content/gdrive\n"
          ],
          "name": "stdout"
        }
      ]
    },
    {
      "cell_type": "code",
      "metadata": {
        "id": "MSld_PFTh2Zm"
      },
      "source": [
        "creds = '{\"username\":\"dhrumilshah3\",\"key\":\"d2d4fbb44fa50e88a37963b6aa08b19f\"}'"
      ],
      "execution_count": null,
      "outputs": []
    },
    {
      "cell_type": "code",
      "metadata": {
        "id": "3o4UetY8ipW8"
      },
      "source": [
        "cred_path = Path('~/.kaggle/kaggle.json').expanduser()\r\n",
        "\r\n",
        "if not cred_path.exists():\r\n",
        "    cred_path.parent.mkdir(exist_ok=True)\r\n",
        "    cred_path.write_text(creds)\r\n",
        "    cred_path.chmod(0o600)\r\n",
        "\r\n",
        "from kaggle import api"
      ],
      "execution_count": null,
      "outputs": []
    },
    {
      "cell_type": "code",
      "metadata": {
        "id": "Klqenc74ipzc"
      },
      "source": [
        "path = URLs.path('human_proteins_atlas')\r\n",
        "Path.BASE_PATH = path"
      ],
      "execution_count": null,
      "outputs": []
    },
    {
      "cell_type": "code",
      "metadata": {
        "colab": {
          "base_uri": "https://localhost:8080/"
        },
        "id": "AeTaS3-cjU6b",
        "outputId": "fb425447-96f5-4cf5-aa5c-f4ad7c3bb138"
      },
      "source": [
        "if not path.exists():\r\n",
        "    path.mkdir(parents=true)\r\n",
        "    api.competition_download_cli('human-protein-atlas-image-classification', path=path)\r\n",
        "    file_extract(path/'human-protein-atlas-image-classification.zip')"
      ],
      "execution_count": null,
      "outputs": [
        {
          "output_type": "stream",
          "text": [
            "  0%|          | 5.00M/17.5G [00:00<08:53, 35.2MB/s]"
          ],
          "name": "stderr"
        },
        {
          "output_type": "stream",
          "text": [
            "Downloading human-protein-atlas-image-classification.zip to /root/.fastai/archive/human_proteins_atlas\n"
          ],
          "name": "stdout"
        },
        {
          "output_type": "stream",
          "text": [
            "100%|██████████| 17.5G/17.5G [07:20<00:00, 42.6MB/s]"
          ],
          "name": "stderr"
        },
        {
          "output_type": "stream",
          "text": [
            "\n"
          ],
          "name": "stdout"
        },
        {
          "output_type": "stream",
          "text": [
            "\n"
          ],
          "name": "stderr"
        }
      ]
    },
    {
      "cell_type": "markdown",
      "metadata": {
        "id": "Rq64B76fbCft"
      },
      "source": [
        "\r\n",
        "# Prepare Datasets and Dataloaders"
      ]
    },
    {
      "cell_type": "code",
      "metadata": {
        "id": "h0lZ0hcbpR8q"
      },
      "source": [
        "path_train = path/'train'\r\n",
        "path_test = path/'test'\r\n",
        "path_labels = path/'train.csv'\r\n",
        "path_submission = path/'sample_submission.csv'"
      ],
      "execution_count": null,
      "outputs": []
    },
    {
      "cell_type": "markdown",
      "metadata": {
        "id": "l2bB8_-bkiHB"
      },
      "source": [
        "## Get the csv data from their paths"
      ]
    },
    {
      "cell_type": "code",
      "metadata": {
        "id": "XK7ttMeSgzgT"
      },
      "source": [
        "labels = pd.read_csv(path_labels)\r\n",
        "submission = pd.read_csv(path_submission)"
      ],
      "execution_count": null,
      "outputs": []
    },
    {
      "cell_type": "code",
      "metadata": {
        "id": "Rn7A6h3PlbZD"
      },
      "source": [
        "labels.head()"
      ],
      "execution_count": null,
      "outputs": []
    },
    {
      "cell_type": "code",
      "metadata": {
        "id": "lugMpj1mld3u"
      },
      "source": [
        "submission.head()"
      ],
      "execution_count": null,
      "outputs": []
    },
    {
      "cell_type": "markdown",
      "metadata": {
        "id": "MdZhO5tflqdT"
      },
      "source": [
        "## One Hot Encoding since Multi-Labelled Data"
      ]
    },
    {
      "cell_type": "code",
      "metadata": {
        "id": "oI4i-_SPl25S"
      },
      "source": [
        "label_names = {\r\n",
        "    0:  \"Nucleoplasm\",  \r\n",
        "    1:  \"Nuclear membrane\",   \r\n",
        "    2:  \"Nucleoli\",   \r\n",
        "    3:  \"Nucleoli fibrillar center\",   \r\n",
        "    4:  \"Nuclear speckles\",\r\n",
        "    5:  \"Nuclear bodies\",   \r\n",
        "    6:  \"Endoplasmic reticulum\",   \r\n",
        "    7:  \"Golgi apparatus\",   \r\n",
        "    8:  \"Peroxisomes\",   \r\n",
        "    9:  \"Endosomes\",   \r\n",
        "    10:  \"Lysosomes\",   \r\n",
        "    11:  \"Intermediate filaments\",   \r\n",
        "    12:  \"Actin filaments\",   \r\n",
        "    13:  \"Focal adhesion sites\",   \r\n",
        "    14:  \"Microtubules\",   \r\n",
        "    15:  \"Microtubule ends\",   \r\n",
        "    16:  \"Cytokinetic bridge\",   \r\n",
        "    17:  \"Mitotic spindle\",   \r\n",
        "    18:  \"Microtubule organizing center\",   \r\n",
        "    19:  \"Centrosome\",   \r\n",
        "    20:  \"Lipid droplets\",   \r\n",
        "    21:  \"Plasma membrane\",   \r\n",
        "    22:  \"Cell junctions\",   \r\n",
        "    23:  \"Mitochondria\",   \r\n",
        "    24:  \"Aggresome\",   \r\n",
        "    25:  \"Cytosol\",   \r\n",
        "    26:  \"Cytoplasmic bodies\",   \r\n",
        "    27:  \"Rods & rings\"\r\n",
        "}"
      ],
      "execution_count": null,
      "outputs": []
    },
    {
      "cell_type": "code",
      "metadata": {
        "id": "nFw9anObnlRx"
      },
      "source": [
        "for key in label_names.keys():\r\n",
        "  labels[label_names[key]] = 0 #create a column for each value from the category list, and set its value as 0\r\n",
        "labels.head(2)"
      ],
      "execution_count": null,
      "outputs": []
    },
    {
      "cell_type": "code",
      "metadata": {
        "id": "Qv0Sj5sEr7KW"
      },
      "source": [
        "def encode(row): #pass in 1 row from the entire df\r\n",
        "  row.Target = np.array(row.Target.split(\" \")).astype(np.int) #turn the target for that row from a string into an array where the items are ints\r\n",
        "  for num in row.Target: #iterate over each number in targets array\r\n",
        "    name = label_names[int(num)] #that number is a key, so find its corresponding value from categories list\r\n",
        "    row.loc[name] = 1 #find the column in that row with the same title as the category and make its value 1\r\n",
        "  return row\r\n",
        "\r\n",
        "labels = labels.apply(encode, axis=1)\r\n",
        "labels.head(2)"
      ],
      "execution_count": null,
      "outputs": []
    },
    {
      "cell_type": "code",
      "metadata": {
        "id": "q-CPGJtoAIFG"
      },
      "source": [
        "for key in label_names.keys():\r\n",
        "  submission[label_names[key]] = 0 #create a column for each key, and set its value as 0\r\n",
        "submission.head(2)"
      ],
      "execution_count": null,
      "outputs": []
    },
    {
      "cell_type": "markdown",
      "metadata": {
        "id": "QQWyNUcWH0wS"
      },
      "source": [
        "## Get Images for the IDs"
      ]
    },
    {
      "cell_type": "code",
      "metadata": {
        "id": "YoUjxd-Coxi1"
      },
      "source": [
        "def open_rgby(path,id): #a function that reads RGBY image\r\n",
        "    colors = ['red','green','blue','yellow']\r\n",
        "    flags = cv2.IMREAD_GRAYSCALE\r\n",
        "    img = [cv2.imread(os.path.join(path, id+'_'+color+'.png'), flags).astype(np.float32)/255\r\n",
        "           for color in colors]\r\n",
        "    return np.stack(img, axis=-1)"
      ],
      "execution_count": null,
      "outputs": []
    },
    {
      "cell_type": "code",
      "metadata": {
        "id": "n40PLyGSsYZP"
      },
      "source": [
        "for Id in labels[\"Id\"].head():\r\n",
        "    image_stack_array=open_rgby(path_train, Id)\r\n",
        "    image_stack_array_processed=np.array(Image.fromarray((image_stack_array * 255).astype(np.uint8)).resize((256, 256)).convert('RGB'))\r\n",
        "    bob = Image.fromarray(image_stack_array_processed)\r\n",
        "bob\r\n",
        "##i need to figure out a way to add these to the training data set"
      ],
      "execution_count": null,
      "outputs": []
    },
    {
      "cell_type": "code",
      "metadata": {
        "id": "GFXu_8wkJwuy"
      },
      "source": [
        "train_x = labels[\"Id\"].copy(deep=True)"
      ],
      "execution_count": null,
      "outputs": []
    },
    {
      "cell_type": "code",
      "metadata": {
        "colab": {
          "background_save": true
        },
        "id": "abu_aCyJLfib"
      },
      "source": [
        "for id in train_x:\r\n",
        "  image_stack_array=open_rgby(path_train, id)\r\n",
        "  image_stack_array_processed=np.array(Image.fromarray((image_stack_array * 255).astype(np.uint8)).resize((256, 256)).convert('RGB'))\r\n",
        "  train_x[\"Image\"] = Image.fromarray(image_stack_array_processed)"
      ],
      "execution_count": null,
      "outputs": []
    },
    {
      "cell_type": "code",
      "metadata": {
        "id": "N-Zsxp08NnDI"
      },
      "source": [
        ""
      ],
      "execution_count": null,
      "outputs": []
    }
  ]
}